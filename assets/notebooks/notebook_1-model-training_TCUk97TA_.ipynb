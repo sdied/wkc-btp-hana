{
 "cells": [
  {
   "cell_type": "markdown",
   "id": "e12e8b28-d0cb-459c-a774-48c6b076baeb",
   "metadata": {
    "id": "cc970067-825f-42f2-b655-ab131bc2731a",
    "tags": []
   },
   "source": [
    "# Industry Accelerators - Utilities Payment Risk Prediction Model"
   ]
  },
  {
   "cell_type": "code",
   "execution_count": null,
   "id": "d47323f5-38f4-4c39-a807-efada99790a9",
   "metadata": {
    "id": "d47323f5-38f4-4c39-a807-efada99790a9",
    "tags": []
   },
   "outputs": [],
   "source": [
    "import pandas as pd\n",
    "import numpy as np\n",
    "import seaborn as sns\n",
    "import matplotlib.pyplot as plt\n",
    "import matplotlib.patches as mpatches\n",
    "import json\n",
    "import datetime\n",
    "import time\n",
    "import joblib\n",
    "\n",
    "from sklearn.model_selection import train_test_split\n",
    "\n",
    "from sklearn.compose import ColumnTransformer\n",
    "from sklearn.pipeline import Pipeline\n",
    "from sklearn.impute import SimpleImputer\n",
    "from sklearn.preprocessing import StandardScaler, OneHotEncoder\n",
    "\n",
    "from sklearn.ensemble import RandomForestClassifier, GradientBoostingClassifier\n",
    "\n",
    "from sklearn import metrics\n",
    "\n",
    "\n",
    "import random\n",
    "import string\n",
    "# need to install this version of imbalanced-learn \n",
    "#!pip install imbalanced-learn\n",
    "#from imblearn.over_sampling import SMOTE\n",
    "\n",
    "!pip install imbalanced-learn==0.7.0\n",
    "from imblearn.over_sampling import SMOTE\n"
   ]
  },
  {
   "cell_type": "code",
   "execution_count": null,
   "id": "9326d0d3-badb-4e91-afd3-caeaa742cf2a",
   "metadata": {
    "id": "9326d0d3-badb-4e91-afd3-caeaa742cf2a",
    "tags": []
   },
   "outputs": [],
   "source": [
    "# get the ratio of the data passed in for this cycle vs the previous cycle and vs the average of the lookback window\n",
    "# eg how does this cycle's bill compare to the average for the previous cycle?\n",
    "def cur_month_vs_historical_summary(df, col, customer_id_col, lookback_window):\n",
    "    # how does this month's data compare to the previous cycle?\n",
    "    df[col + '_PREVIOUS_MONTH'] = df.groupby(customer_id_col)[col].shift(1)\n",
    "    df['RATIO_THIS_MONTH_' + col + '_VS_LAST_MONTH'] = df[col] / df[col + '_PREVIOUS_MONTH']\n",
    "    # how does this cycles's data compare to the average of the lookback window?\n",
    "    \n",
    "    # get the average of the lookback window\n",
    "    df[col + '_AVG_LOOKBACK_WINDOW'] = df.groupby(customer_id_col)[col].shift(1).rolling(lookback_window).mean()\n",
    "    df['RATIO_THIS_MONTH_' + col + '_VS_AVG_LOOKBACK_WINDOW'] = df[col] / df[col + '_AVG_LOOKBACK_WINDOW']\n",
    "    \n",
    "    df.drop([col + '_AVG_LOOKBACK_WINDOW', col + '_PREVIOUS_MONTH'], axis=1, inplace=True)\n",
    "    \n",
    "    return df"
   ]
  },
  {
   "cell_type": "code",
   "execution_count": 3,
   "id": "318b4a1d-3218-4ee3-9d92-c95f949acb81",
   "metadata": {
    "id": "318b4a1d-3218-4ee3-9d92-c95f949acb81",
    "tags": []
   },
   "outputs": [],
   "source": [
    "def plot_feature_importance(feature_list, feature_importances, title='Feature Importance Plot'):\n",
    "    \"\"\"\n",
    "    Function to Plot Feature Importances\n",
    "    \"\"\"\n",
    "    features = feature_list\n",
    "    importances = feature_importances\n",
    "    indices = np.argsort(importances)[-10:]\n",
    "    \n",
    "    plt.figure(figsize=(12,7))\n",
    "    plt.title(title, fontsize=16, fontweight='bold')\n",
    "    plt.barh(range(len(indices)), importances[indices], color='b', align='center')\n",
    "    plt.yticks(range(len(indices)), [features[i] for i in indices])\n",
    "    plt.xlabel('Relative Importance')\n",
    "  \n",
    "    return"
   ]
  },
  {
   "cell_type": "code",
   "execution_count": 5,
   "id": "550578fa-4162-46e8-a3d4-27ea8f685098",
   "metadata": {
    "id": "550578fa-4162-46e8-a3d4-27ea8f685098",
    "tags": []
   },
   "outputs": [],
   "source": [
    "# @hidden_cell\n",
    "# The project token is an authorization token that is used to access project resources like data sources, connections, and used by platform APIs.\n",
    "from project_lib import Project\n",
    "project = Project(project_id='133e0829-3321-420c-a25e-e7d551a02ece')\n",
    "pc = project.project_context"
   ]
  },
  {
   "cell_type": "code",
   "execution_count": null,
   "id": "08f10cda-4562-46fe-9987-73707a6041b9",
   "metadata": {
    "id": "08f10cda-4562-46fe-9987-73707a6041b9",
    "tags": []
   },
   "outputs": [],
   "source": [
    "my_file = project.get_file('Bill Payment View.csv')\n",
    "my_file.seek(0)\n",
    "df_prep = pd.read_csv(my_file)\n",
    "\n",
    "df_prep.head()"
   ]
  },
  {
   "cell_type": "code",
   "execution_count": null,
   "id": "e87f1033-1a2c-4b17-ba09-6ed173655ab3",
   "metadata": {
    "id": "e87f1033-1a2c-4b17-ba09-6ed173655ab3",
    "tags": []
   },
   "outputs": [],
   "source": [
    "target_col = 'MISSED_PAYMENT'\n",
    "# used to create the target variable\n",
    "overdue_balance_col = 'OVERDUE_BALANCE'\n",
    "billing_date_col = 'BILLING_DATE'\n",
    "customer_id_col = 'CUSTOMER_ID'\n",
    "# in months\n",
    "lookback_window = 3\n",
    "l_cols_to_summarise = ['BASE_USAGE', 'ALTERNATE_USAGE', 'TOTAL_TO_PAY']\n",
    "\n",
    "l_categorical_for_dummy_vars = ['SMART_METER_COMMENTS', 'CITY', 'MARITAL_STATUS', 'EDUCATION', 'SEGMENT', 'EMPLOYMENT', 'CREDIT_HISTORY', 'BUILDING_TYPE']\n",
    "\n",
    "l_numerical_features = ['TOTAL_TO_PAY', 'BASE_USAGE', 'ALTERNATE_USAGE', 'STANDING_CHARGE', 'BASE_CHARGE', 'ALTERNATE_CHARGE', 'LEVY', 'TOTAL_TO_PAY',\n",
    "                       'AGE', 'IS_REGISTERED_FOR_ALERTS', 'OWNS_HOME', 'COMPLAINTS', 'HAS_THERMOSTAT', 'HAS_HOME_AUTOMATION', 'PV_ZONING', 'WIND_ZONING', \n",
    "                        'IS_CAR_OWNER', 'HAS_EV', 'HAS_PV', 'HAS_WIND', 'EBILL', 'IN_WARRANTY']\n",
    "\n",
    "user_inputs_dict = {'target_col' : target_col, 'overdue_balance_col' : overdue_balance_col, 'billing_date_col' : billing_date_col,\n",
    "                    'customer_id_col' : customer_id_col, 'lookback_window' : lookback_window, 'l_cols_to_summarise' : l_cols_to_summarise}"
   ]
  },
  {
   "cell_type": "code",
   "execution_count": null,
   "id": "144bc068-74ea-468c-9c48-f6871c5d57af",
   "metadata": {
    "id": "144bc068-74ea-468c-9c48-f6871c5d57af",
    "tags": []
   },
   "outputs": [],
   "source": [
    "# sort by billing date for each customer\n",
    "df_prep = df_prep.sort_values([customer_id_col, billing_date_col])\n",
    "# shift the overdue balance back 1 record per customer to create our target variable\n",
    "# we want to know on the billing date whether the customer misses the payment\n",
    "df_prep[target_col] = df_prep.groupby(customer_id_col)[overdue_balance_col].shift(-1)\n",
    "\n",
    "df_prep.loc[(df_prep[target_col] != 0) & (~df_prep[target_col].isna()), target_col] = 1"
   ]
  },
  {
   "cell_type": "code",
   "execution_count": null,
   "id": "82b65369-9ffa-4bae-9452-a81ba9ec01e1",
   "metadata": {
    "id": "82b65369-9ffa-4bae-9452-a81ba9ec01e1"
   },
   "outputs": [],
   "source": []
  }
 ],
 "metadata": {
  "kernelspec": {
   "display_name": "Python 3.10",
   "language": "python",
   "name": "python3"
  },
  "language_info": {
   "codemirror_mode": {
    "name": "ipython",
    "version": 3
   },
   "file_extension": ".py",
   "mimetype": "text/x-python",
   "name": "python",
   "nbconvert_exporter": "python",
   "pygments_lexer": "ipython3",
   "version": "3.10.6"
  }
 },
 "nbformat": 4,
 "nbformat_minor": 5
}
